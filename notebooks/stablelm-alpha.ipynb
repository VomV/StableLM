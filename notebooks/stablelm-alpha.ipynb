{
  "cells": [
    {
      "attachments": {},
      "cell_type": "markdown",
      "metadata": {
        "id": "4weyZUFfgUlD"
      },
      "source": [
        "# StableLM-Alpha\n",
        "\n",
        "[![Open In Colab](https://colab.research.google.com/assets/colab-badge.svg)](https://colab.research.google.com/github/Stability-AI/StableLM//blob/main/notebooks/stablelm-alpha.ipynb)\n",
        "\n",
        "<img src=\"https://raw.githubusercontent.com/Stability-AI/StableLM/main/assets/mascot.png?token=GHSAT0AAAAAABWTZAV7EFSADKXWO3HDNKPYZBZ6Z7A\"/>\n",
        "\n",
        "This notebook is designed to let you quickly generate text with the latest StableLM models (**StableLM-Alpha**) using Hugging Face's `transformers` library."
      ]
    },
    {
      "cell_type": "code",
      "execution_count": 2,
      "metadata": {
        "id": "8xicyuk_Ezuw"
      },
      "outputs": [
        {
          "name": "stdout",
          "output_type": "stream",
          "text": [
            "/bin/bash: line 1: nvidia-smi: command not found\n"
          ]
        }
      ],
      "source": [
        "!nvidia-smi"
      ]
    },
    {
      "cell_type": "code",
      "execution_count": 4,
      "metadata": {
        "id": "V1Da2YDX71IF"
      },
      "outputs": [
        {
          "name": "stdout",
          "output_type": "stream",
          "text": [
            "Requirement already satisfied: pip in /home/vivek/anaconda3/envs/transformers/lib/python3.10/site-packages (23.1)\n",
            "Requirement already satisfied: accelerate in /home/vivek/anaconda3/envs/transformers/lib/python3.10/site-packages (0.18.0)\n",
            "Requirement already satisfied: bitsandbytes in /home/vivek/anaconda3/envs/transformers/lib/python3.10/site-packages (0.38.1)\n",
            "Requirement already satisfied: transformers in /home/vivek/.local/lib/python3.10/site-packages (4.27.4)\n",
            "Requirement already satisfied: numpy>=1.17 in /home/vivek/anaconda3/envs/transformers/lib/python3.10/site-packages (from accelerate) (1.23.5)\n",
            "Requirement already satisfied: packaging>=20.0 in /home/vivek/.local/lib/python3.10/site-packages (from accelerate) (22.0)\n",
            "Requirement already satisfied: psutil in /home/vivek/.local/lib/python3.10/site-packages (from accelerate) (5.9.4)\n",
            "Requirement already satisfied: pyyaml in /home/vivek/anaconda3/envs/transformers/lib/python3.10/site-packages (from accelerate) (6.0)\n",
            "Requirement already satisfied: torch>=1.4.0 in /home/vivek/.local/lib/python3.10/site-packages (from accelerate) (2.0.0)\n",
            "Requirement already satisfied: filelock in /home/vivek/.local/lib/python3.10/site-packages (from transformers) (3.8.2)\n",
            "Requirement already satisfied: huggingface-hub<1.0,>=0.11.0 in /home/vivek/.local/lib/python3.10/site-packages (from transformers) (0.11.1)\n",
            "Requirement already satisfied: regex!=2019.12.17 in /home/vivek/.local/lib/python3.10/site-packages (from transformers) (2022.10.31)\n",
            "Requirement already satisfied: requests in /home/vivek/.local/lib/python3.10/site-packages (from transformers) (2.28.1)\n",
            "Requirement already satisfied: tokenizers!=0.11.3,<0.14,>=0.11.1 in /home/vivek/.local/lib/python3.10/site-packages (from transformers) (0.12.1)\n",
            "Requirement already satisfied: tqdm>=4.27 in /home/vivek/.local/lib/python3.10/site-packages (from transformers) (4.64.1)\n",
            "Requirement already satisfied: typing-extensions>=3.7.4.3 in /home/vivek/.local/lib/python3.10/site-packages (from huggingface-hub<1.0,>=0.11.0->transformers) (4.4.0)\n",
            "Requirement already satisfied: sympy in /home/vivek/.local/lib/python3.10/site-packages (from torch>=1.4.0->accelerate) (1.11.1)\n",
            "Requirement already satisfied: networkx in /home/vivek/.local/lib/python3.10/site-packages (from torch>=1.4.0->accelerate) (3.0)\n",
            "Requirement already satisfied: jinja2 in /home/vivek/.local/lib/python3.10/site-packages (from torch>=1.4.0->accelerate) (3.1.2)\n",
            "Requirement already satisfied: nvidia-cuda-nvrtc-cu11==11.7.99 in /home/vivek/.local/lib/python3.10/site-packages (from torch>=1.4.0->accelerate) (11.7.99)\n",
            "Requirement already satisfied: nvidia-cuda-runtime-cu11==11.7.99 in /home/vivek/.local/lib/python3.10/site-packages (from torch>=1.4.0->accelerate) (11.7.99)\n",
            "Requirement already satisfied: nvidia-cuda-cupti-cu11==11.7.101 in /home/vivek/.local/lib/python3.10/site-packages (from torch>=1.4.0->accelerate) (11.7.101)\n",
            "Requirement already satisfied: nvidia-cudnn-cu11==8.5.0.96 in /home/vivek/.local/lib/python3.10/site-packages (from torch>=1.4.0->accelerate) (8.5.0.96)\n",
            "Requirement already satisfied: nvidia-cublas-cu11==11.10.3.66 in /home/vivek/.local/lib/python3.10/site-packages (from torch>=1.4.0->accelerate) (11.10.3.66)\n",
            "Requirement already satisfied: nvidia-cufft-cu11==10.9.0.58 in /home/vivek/.local/lib/python3.10/site-packages (from torch>=1.4.0->accelerate) (10.9.0.58)\n",
            "Requirement already satisfied: nvidia-curand-cu11==10.2.10.91 in /home/vivek/.local/lib/python3.10/site-packages (from torch>=1.4.0->accelerate) (10.2.10.91)\n",
            "Requirement already satisfied: nvidia-cusolver-cu11==11.4.0.1 in /home/vivek/.local/lib/python3.10/site-packages (from torch>=1.4.0->accelerate) (11.4.0.1)\n",
            "Requirement already satisfied: nvidia-cusparse-cu11==11.7.4.91 in /home/vivek/.local/lib/python3.10/site-packages (from torch>=1.4.0->accelerate) (11.7.4.91)\n",
            "Requirement already satisfied: nvidia-nccl-cu11==2.14.3 in /home/vivek/.local/lib/python3.10/site-packages (from torch>=1.4.0->accelerate) (2.14.3)\n",
            "Requirement already satisfied: nvidia-nvtx-cu11==11.7.91 in /home/vivek/.local/lib/python3.10/site-packages (from torch>=1.4.0->accelerate) (11.7.91)\n",
            "Requirement already satisfied: triton==2.0.0 in /home/vivek/.local/lib/python3.10/site-packages (from torch>=1.4.0->accelerate) (2.0.0)\n",
            "Requirement already satisfied: setuptools in /home/vivek/anaconda3/envs/transformers/lib/python3.10/site-packages (from nvidia-cublas-cu11==11.10.3.66->torch>=1.4.0->accelerate) (65.5.0)\n",
            "Requirement already satisfied: wheel in /home/vivek/anaconda3/envs/transformers/lib/python3.10/site-packages (from nvidia-cublas-cu11==11.10.3.66->torch>=1.4.0->accelerate) (0.37.1)\n",
            "Requirement already satisfied: cmake in /home/vivek/.local/lib/python3.10/site-packages (from triton==2.0.0->torch>=1.4.0->accelerate) (3.26.1)\n",
            "Requirement already satisfied: lit in /home/vivek/.local/lib/python3.10/site-packages (from triton==2.0.0->torch>=1.4.0->accelerate) (16.0.0)\n",
            "Requirement already satisfied: charset-normalizer<3,>=2 in /home/vivek/.local/lib/python3.10/site-packages (from requests->transformers) (2.1.1)\n",
            "Requirement already satisfied: idna<4,>=2.5 in /home/vivek/.local/lib/python3.10/site-packages (from requests->transformers) (3.4)\n",
            "Requirement already satisfied: urllib3<1.27,>=1.21.1 in /home/vivek/.local/lib/python3.10/site-packages (from requests->transformers) (1.26.15)\n",
            "Requirement already satisfied: certifi>=2017.4.17 in /home/vivek/.local/lib/python3.10/site-packages (from requests->transformers) (2022.12.7)\n",
            "Requirement already satisfied: MarkupSafe>=2.0 in /home/vivek/anaconda3/envs/transformers/lib/python3.10/site-packages (from jinja2->torch>=1.4.0->accelerate) (2.1.1)\n",
            "Requirement already satisfied: mpmath>=0.19 in /home/vivek/.local/lib/python3.10/site-packages (from sympy->torch>=1.4.0->accelerate) (1.3.0)\n"
          ]
        }
      ],
      "source": [
        "!pip install -U pip\n",
        "!pip install accelerate bitsandbytes transformers"
      ]
    },
    {
      "cell_type": "code",
      "execution_count": 5,
      "metadata": {
        "cellView": "form",
        "id": "sSifeGXKlIgY"
      },
      "outputs": [],
      "source": [
        "#@title Setup\n",
        "\n",
        "import torch\n",
        "from transformers import AutoModelForCausalLM, AutoTokenizer\n",
        "\n",
        "from IPython.display import Markdown, display\n",
        "def hr(): display(Markdown('---'))\n",
        "def cprint(msg: str, color: str = \"blue\", **kwargs) -> str:\n",
        "    if color == \"blue\": print(\"\\033[34m\" + msg + \"\\033[0m\", **kwargs)\n",
        "    elif color == \"red\": print(\"\\033[31m\" + msg + \"\\033[0m\", **kwargs)\n",
        "    elif color == \"green\": print(\"\\033[32m\" + msg + \"\\033[0m\", **kwargs)\n",
        "    elif color == \"yellow\": print(\"\\033[33m\" + msg + \"\\033[0m\", **kwargs)\n",
        "    elif color == \"purple\": print(\"\\033[35m\" + msg + \"\\033[0m\", **kwargs)\n",
        "    elif color == \"cyan\": print(\"\\033[36m\" + msg + \"\\033[0m\", **kwargs)\n",
        "    else: raise ValueError(f\"Invalid info color: `{color}`\")"
      ]
    },
    {
      "cell_type": "code",
      "execution_count": 9,
      "metadata": {
        "cellView": "form",
        "id": "dQZCeE-ujdzW"
      },
      "outputs": [
        {
          "name": "stdout",
          "output_type": "stream",
          "text": [
            "\u001b[34mUsing `stabilityai/stablelm-base-alpha-7b`\u001b[0m\n",
            "\u001b[34mLoading with: `torch_dtype='float16', load_in_8bit=False, device_map='auto'`\u001b[0m\n"
          ]
        },
        {
          "data": {
            "application/vnd.jupyter.widget-view+json": {
              "model_id": "ce94267ad74544eaaa24c8a8c8e09381",
              "version_major": 2,
              "version_minor": 0
            },
            "text/plain": [
              "Downloading shards:   0%|          | 0/4 [00:00<?, ?it/s]"
            ]
          },
          "metadata": {},
          "output_type": "display_data"
        },
        {
          "data": {
            "application/vnd.jupyter.widget-view+json": {
              "model_id": "3bd7e678657c4cc59589a583cb995c03",
              "version_major": 2,
              "version_minor": 0
            },
            "text/plain": [
              "Downloading:   0%|          | 0.00/9.78G [00:00<?, ?B/s]"
            ]
          },
          "metadata": {},
          "output_type": "display_data"
        },
        {
          "data": {
            "application/vnd.jupyter.widget-view+json": {
              "model_id": "be66cad5ca5d4fd7b1e25f34879737c4",
              "version_major": 2,
              "version_minor": 0
            },
            "text/plain": [
              "Downloading:   0%|          | 0.00/9.77G [00:00<?, ?B/s]"
            ]
          },
          "metadata": {},
          "output_type": "display_data"
        }
      ],
      "source": [
        "#@title Pick Your Model\n",
        "#@markdown Refer to Hugging Face docs for more information the parameters below: https://huggingface.co/docs/transformers/main/en/main_classes/model#transformers.PreTrainedModel.from_pretrained\n",
        "\n",
        "# Choose model name\n",
        "model_name = \"stabilityai/stablelm-base-alpha-7b\" #@param [\"stabilityai/stablelm-base-alpha-7b\", \"stabilityai/stablelm-tuned-alpha-7b\", \"stabilityai/stablelm-base-alpha-3b\", \"stabilityai/stablelm-tuned-alpha-3b\"]\n",
        "\n",
        "cprint(f\"Using `{model_name}`\", color=\"blue\")\n",
        "\n",
        "# Select \"big model inference\" parameters\n",
        "torch_dtype = \"float16\" #@param [\"float16\", \"bfloat16\", \"float\"]\n",
        "load_in_8bit = False #@param {type:\"boolean\"}\n",
        "device_map = \"auto\"\n",
        "\n",
        "cprint(f\"Loading with: `{torch_dtype=}, {load_in_8bit=}, {device_map=}`\")\n",
        "\n",
        "tokenizer = AutoTokenizer.from_pretrained(model_name)\n",
        "model = AutoModelForCausalLM.from_pretrained(\n",
        "    model_name,\n",
        "    torch_dtype=getattr(torch, torch_dtype),\n",
        "    load_in_8bit=load_in_8bit,\n",
        "    device_map=device_map,\n",
        "    offload_folder=\"./offload\",\n",
        ")"
      ]
    },
    {
      "cell_type": "code",
      "execution_count": null,
      "metadata": {},
      "outputs": [],
      "source": []
    },
    {
      "cell_type": "code",
      "execution_count": 15,
      "metadata": {
        "cellView": "form",
        "colab": {
          "base_uri": "https://localhost:8080/",
          "height": 122
        },
        "id": "P01Db-SVwtPO",
        "outputId": "69ab8b7e-2981-4a55-b03e-dc4f1545f979"
      },
      "outputs": [
        {
          "name": "stdout",
          "output_type": "stream",
          "text": [
            "\u001b[34mSampling with: `max_new_tokens=64, temperature=0.5, top_k=0, top_p=0.9, do_sample=True`\u001b[0m\n"
          ]
        },
        {
          "data": {
            "text/markdown": [
              "---"
            ],
            "text/plain": [
              "<IPython.core.display.Markdown object>"
            ]
          },
          "metadata": {},
          "output_type": "display_data"
        },
        {
          "name": "stdout",
          "output_type": "stream",
          "text": [
            "There once was a parrot named Alph who sang\u001b[32m in a very high, very sweet voice. It was so sweet that it was almost painful. But then one day, a little bird came along and said to Alph, \"Alph, why don't you sing a little higher?\"\n",
            "\n",
            "Alph thought about it for a moment, and then he said,\u001b[0m\n"
          ]
        }
      ],
      "source": [
        "#@title Generate Text \n",
        "#@markdown <b>Note: The model response is colored in green</b>\n",
        "\n",
        "prompt = \"There once was a parrot named Alph who sang\" #@param {type:\"string\"}\n",
        "\n",
        "# Sampling args\n",
        "max_new_tokens = 64 #@param {type:\"slider\", min:32.0, max:3072.0, step:32}\n",
        "temperature = 0.5 #@param {type:\"slider\", min:0.0, max:1.25, step:0.05}\n",
        "top_k = 0 #@param {type:\"slider\", min:0.0, max:1.0, step:0.05}\n",
        "top_p = 0.9 #@param {type:\"slider\", min:0.0, max:1.0, step:0.05}\n",
        "do_sample = True #@param {type:\"boolean\"}\n",
        "\n",
        "cprint(f\"Sampling with: `{max_new_tokens=}, {temperature=}, {top_k=}, {top_p=}, {do_sample=}`\")\n",
        "hr()\n",
        "\n",
        "# Create `generate` inputs\n",
        "inputs = tokenizer(prompt, return_tensors=\"pt\")\n",
        "inputs.to(model.device)\n",
        "\n",
        "# Generate\n",
        "tokens = model.generate(\n",
        "  **inputs,\n",
        "  max_new_tokens=max_new_tokens,\n",
        "  temperature=temperature,\n",
        "  top_k=top_k,\n",
        "  top_p=top_p,\n",
        "  do_sample=do_sample,\n",
        "  pad_token_id=tokenizer.eos_token_id,\n",
        ")\n",
        "\n",
        "# Extract out only the completion tokens\n",
        "completion_tokens = tokens[0][inputs['input_ids'].size(1):]\n",
        "completion = tokenizer.decode(completion_tokens, skip_special_tokens=True)\n",
        "\n",
        "# Display\n",
        "print(prompt, end=\"\")\n",
        "cprint(completion, color=\"green\")"
      ]
    },
    {
      "attachments": {},
      "cell_type": "markdown",
      "metadata": {
        "id": "rIZm5uwaQLa4"
      },
      "source": [
        "## License (Apache 2.0)\n",
        "\n",
        "Copyright (c) 2023 by [StabilityAI LTD](https://stability.ai/)\n",
        "\n",
        "Licensed under the Apache License, Version 2.0 (the \"License\");\n",
        "you may not use this file except in compliance with the License.\n",
        "You may obtain a copy of the License at\n",
        "\n",
        "    http://www.apache.org/licenses/LICENSE-2.0\n",
        "\n",
        "Unless required by applicable law or agreed to in writing, software\n",
        "distributed under the License is distributed on an \"AS IS\" BASIS,\n",
        "WITHOUT WARRANTIES OR CONDITIONS OF ANY KIND, either express or implied.\n",
        "See the License for the specific language governing permissions and\n",
        "limitations under the License."
      ]
    }
  ],
  "metadata": {
    "accelerator": "GPU",
    "colab": {
      "provenance": []
    },
    "gpuClass": "standard",
    "kernelspec": {
      "display_name": "Python 3",
      "name": "python3"
    },
    "language_info": {
      "codemirror_mode": {
        "name": "ipython",
        "version": 3
      },
      "file_extension": ".py",
      "mimetype": "text/x-python",
      "name": "python",
      "nbconvert_exporter": "python",
      "pygments_lexer": "ipython3",
      "version": "3.10.10"
    }
  },
  "nbformat": 4,
  "nbformat_minor": 0
}
